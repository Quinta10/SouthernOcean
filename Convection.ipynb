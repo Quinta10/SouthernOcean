{
 "cells": [
  {
   "cell_type": "markdown",
   "metadata": {},
   "source": [
    "# Southern Ocean Codes\n",
    "## Environment Settings"
   ]
  },
  {
   "cell_type": "code",
   "execution_count": null,
   "metadata": {},
   "outputs": [],
   "source": [
    "# filter some warning messages\n",
    "import warnings\n",
    "warnings.filterwarnings(\"ignore\") \n",
    "\n",
    "import os\n",
    "os.environ['NUMPY_EXPERIMENTAL_ARRAY_FUNCTION'] = '0'"
   ]
  },
  {
   "cell_type": "code",
   "execution_count": null,
   "metadata": {},
   "outputs": [],
   "source": [
    "import numpy as np\n",
    "import xesmf as xe\n",
    "import xarray as xr\n",
    "import seawater as sw\n",
    "\n",
    "import copy"
   ]
  },
  {
   "cell_type": "markdown",
   "metadata": {},
   "source": [
    "dask settings"
   ]
  },
  {
   "cell_type": "code",
   "execution_count": null,
   "metadata": {},
   "outputs": [],
   "source": [
    "from dask.distributed import Client\n",
    "from dask_gateway import Gateway\n",
    "\n",
    "gateway = Gateway()\n",
    "cluster = gateway.new_cluster()\n",
    "cluster.adapt(minimum = 0, maximum = 40)\n",
    "\n",
    "client = Client(cluster, timeout='50s') \n",
    "cluster"
   ]
  },
  {
   "cell_type": "code",
   "execution_count": null,
   "metadata": {},
   "outputs": [],
   "source": [
    "client.close()\n",
    "cluster.close()"
   ]
  },
  {
   "cell_type": "markdown",
   "metadata": {},
   "source": [
    "## Data Access and processing\n",
    "### 1. Data reading and calculation\n",
    "#### a) Read CMIP6 data from Google Cloud using intake"
   ]
  },
  {
   "cell_type": "code",
   "execution_count": null,
   "metadata": {},
   "outputs": [],
   "source": [
    "import intake\n",
    "url = \"https://raw.githubusercontent.com/pangeo-data/pangeo-datastore/master/intake-catalogs/master.yaml\"\n",
    "cat = intake.open_catalog(url)\n",
    "col = cat.climate.cmip6_gcs()"
   ]
  },
  {
   "cell_type": "code",
   "execution_count": null,
   "metadata": {},
   "outputs": [],
   "source": [
    "def rename_coords(ds):\n",
    "    ds = ds.copy()\n",
    "    \"\"\"Rename all depth dim to `lev`\"\"\"\n",
    "    if \"olevel\" in ds.coords:\n",
    "        ds = ds.rename({\"olevel\": \"lev\"})\n",
    "    if \"lev_partial\" in ds.coords:\n",
    "        ds = ds.rename({\"lev_partial\": \"lev\"})\n",
    "    \"\"\"Rename all latitude, longitude dim to `lat`,`lon`\"\"\"\n",
    "    if 'latitude' in ds.coords:\n",
    "        ds = ds.rename({'longitude': 'lon', 'latitude': 'lat'})\n",
    "    if 'nav_lat' in ds.coords:\n",
    "        ds = ds.rename({'nav_lon': 'lon', 'nav_lat': 'lat'})\n",
    "    if 'nav_lat' in ds.coords:\n",
    "        ds = ds.rename({'nav_lon': 'lon', 'nav_lat': 'lat'})\n",
    "    \"\"\"decode cftime\"\"\"\n",
    "    ds = xr.decode_cf(ds)\n",
    "    return ds\n",
    "\n",
    "def func_get_data(col, model, var, expe, freq, mem = 'r1i1p1f1', grid = 'gr'):\n",
    "    dcat = col.search(variable_id = var,\n",
    "                      table_id = freq, \n",
    "                      experiment_id = expe,\n",
    "                      source_id = model,\n",
    "                      member_id = mem, \n",
    "                      grid_label = grid)\n",
    "    if dcat.df.empty:\n",
    "        print('No data')\n",
    "    else:\n",
    "        key0 = dcat.keys()[0]\n",
    "        data_source = dcat[key0]\n",
    "        z_kwargs = {'consolidated': True, 'decode_times':False}\n",
    "        dataset = data_source(zarr_kwargs=z_kwargs, preprocess=rename_coords).to_dask()\n",
    "        \n",
    "        dataset = dataset.squeeze('member_id')\n",
    "        dataset = dataset.reset_coords('member_id', drop = True)\n",
    "        \n",
    "        return dataset"
   ]
  },
  {
   "cell_type": "code",
   "execution_count": null,
   "metadata": {},
   "outputs": [],
   "source": [
    "model_name = 'GFDL-CM4' \n",
    "# SST, Sanility, Heat Flux, Sea Ice Concentration\n",
    "variables = ['thetao', 'so', 'hfds', 'siconc'] \n",
    "experiment = 'piControl'\n",
    "frequency = 'Omon'\n",
    "\n",
    "\n",
    "\n",
    "datasets = {}\n",
    "for var in variables:\n",
    "    print(var)\n",
    "    if var == 'siconc':\n",
    "        datasets[var] = func_get_data(col, model_name, var, experiment, 'SImon')\n",
    "    else:\n",
    "        datasets[var] = func_get_data(col, model_name, var, experiment, frequency)"
   ]
  },
  {
   "cell_type": "markdown",
   "metadata": {},
   "source": [
    "#### b) Calculate density\n",
    "Function smow and dens0 are modified from [python-seawater](https://github.com/pyoceans/python-seawater/tree/master/seawater)"
   ]
  },
  {
   "cell_type": "code",
   "execution_count": null,
   "metadata": {},
   "outputs": [],
   "source": [
    "def smow(t):\n",
    "    a = (999.842594, 6.793952e-2, -9.095290e-3, 1.001685e-4, -1.120083e-6,\n",
    "         6.536332e-9)\n",
    "\n",
    "    T68 = t * 1.00024\n",
    "    return (a[0] + (a[1] + (a[2] + (a[3] + (a[4] + a[5] * T68) * T68) * T68) *\n",
    "            T68) * T68)\n",
    "\n",
    "def dens0(s, t):\n",
    "    T68 = t * 1.00024\n",
    "    b = (8.24493e-1, -4.0899e-3, 7.6438e-5, -8.2467e-7, 5.3875e-9)\n",
    "    c = (-5.72466e-3, 1.0227e-4, -1.6546e-6)\n",
    "    d = 4.8314e-4\n",
    "    return (smow(t) + (b[0] + (b[1] + (b[2] + (b[3] + b[4] * T68) * T68) *\n",
    "            T68) * T68) * s + (c[0] + (c[1] + c[2] * T68) * T68) * s *\n",
    "            s ** 0.5 + d * s ** 2)\n",
    "\n",
    "def func_calc_dens(ds, start_index, stop_index):\n",
    "    ds_t = ds['thetao']\n",
    "    ds_s = ds['so']\n",
    "    \n",
    "    da_t = ds_t['thetao'].isel(time = slice(start_index, stop_index))\n",
    "    da_s = ds_s['so'].isel(time = slice(start_index, stop_index))\n",
    "    \n",
    "    dens = dens0(da_s, da_t)\n",
    "    \n",
    "    return dens"
   ]
  },
  {
   "cell_type": "code",
   "execution_count": null,
   "metadata": {},
   "outputs": [],
   "source": [
    "da_dens = func_calc_dens(datasets, 0, 12*500)"
   ]
  },
  {
   "cell_type": "code",
   "execution_count": null,
   "metadata": {},
   "outputs": [],
   "source": [
    "def func_regrid(ds, ds_out, reuse=False, clear=True):\n",
    "    dsr =  xe.Regridder(ds, ds_out, 'bilinear', periodic=True, reuse_weights = reuse, ignore_degenerate=True)\n",
    "    dsr._grid_in = None\n",
    "    dsr._grid_out = None\n",
    "    dsr_out = dsr(ds)\n",
    "    if clear:\n",
    "        dsr.clean_weight_file()\n",
    "    return dsr_out"
   ]
  },
  {
   "cell_type": "code",
   "execution_count": null,
   "metadata": {},
   "outputs": [],
   "source": [
    "##### Regridding output data grid ####\n",
    "ds_out = xr.Dataset({'lat': (['lat'], np.arange(-90, 91, 1.0)),\n",
    "                     'lon': (['lon'], np.arange(0, 361, 1.0))})"
   ]
  },
  {
   "cell_type": "code",
   "execution_count": null,
   "metadata": {},
   "outputs": [],
   "source": [
    "da_dens_gr = func_regrid(da_dens, ds_out)"
   ]
  },
  {
   "cell_type": "code",
   "execution_count": null,
   "metadata": {},
   "outputs": [],
   "source": []
  }
 ],
 "metadata": {
  "kernelspec": {
   "display_name": "Python 3",
   "language": "python",
   "name": "python3"
  },
  "language_info": {
   "codemirror_mode": {
    "name": "ipython",
    "version": 3
   },
   "file_extension": ".py",
   "mimetype": "text/x-python",
   "name": "python",
   "nbconvert_exporter": "python",
   "pygments_lexer": "ipython3",
   "version": "3.7.6"
  }
 },
 "nbformat": 4,
 "nbformat_minor": 4
}
